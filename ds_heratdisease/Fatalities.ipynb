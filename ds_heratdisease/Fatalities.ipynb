{
 "cells": [
  {
   "cell_type": "code",
   "execution_count": 5,
   "id": "02425f8f",
   "metadata": {},
   "outputs": [],
   "source": [
    "import pandas as pd"
   ]
  },
  {
   "cell_type": "code",
   "execution_count": 6,
   "id": "3042800e",
   "metadata": {},
   "outputs": [],
   "source": [
    "heart=pd.read_csv(\"heart.csv\")"
   ]
  },
  {
   "cell_type": "code",
   "execution_count": 7,
   "id": "5abbac17",
   "metadata": {},
   "outputs": [
    {
     "name": "stdout",
     "output_type": "stream",
     "text": [
      "<class 'pandas.core.frame.DataFrame'>\n",
      "RangeIndex: 19119 entries, 0 to 19118\n",
      "Data columns (total 12 columns):\n",
      " #   Column             Non-Null Count  Dtype  \n",
      "---  ------             --------------  -----  \n",
      " 0   Year               19119 non-null  int64  \n",
      " 1   Month              19119 non-null  object \n",
      " 2   State              19119 non-null  object \n",
      " 3   Location           16953 non-null  object \n",
      " 4   Food               10156 non-null  object \n",
      " 5   Ingredient         1876 non-null   object \n",
      " 6   Species            12500 non-null  object \n",
      " 7   Serotype/Genotype  3907 non-null   object \n",
      " 8   Status             12500 non-null  object \n",
      " 9   Illnesses          19119 non-null  int64  \n",
      " 10  Hospitalizations   15494 non-null  float64\n",
      " 11  Fatalities         15518 non-null  float64\n",
      "dtypes: float64(2), int64(2), object(8)\n",
      "memory usage: 1.8+ MB\n"
     ]
    }
   ],
   "source": [
    "heart.info()"
   ]
  },
  {
   "cell_type": "code",
   "execution_count": 8,
   "id": "71aa9d49",
   "metadata": {},
   "outputs": [
    {
     "data": {
      "text/html": [
       "<div>\n",
       "<style scoped>\n",
       "    .dataframe tbody tr th:only-of-type {\n",
       "        vertical-align: middle;\n",
       "    }\n",
       "\n",
       "    .dataframe tbody tr th {\n",
       "        vertical-align: top;\n",
       "    }\n",
       "\n",
       "    .dataframe thead th {\n",
       "        text-align: right;\n",
       "    }\n",
       "</style>\n",
       "<table border=\"1\" class=\"dataframe\">\n",
       "  <thead>\n",
       "    <tr style=\"text-align: right;\">\n",
       "      <th></th>\n",
       "      <th>Year</th>\n",
       "      <th>Month</th>\n",
       "      <th>State</th>\n",
       "      <th>Location</th>\n",
       "      <th>Food</th>\n",
       "      <th>Ingredient</th>\n",
       "      <th>Species</th>\n",
       "      <th>Serotype/Genotype</th>\n",
       "      <th>Status</th>\n",
       "      <th>Illnesses</th>\n",
       "      <th>Hospitalizations</th>\n",
       "      <th>Fatalities</th>\n",
       "    </tr>\n",
       "  </thead>\n",
       "  <tbody>\n",
       "    <tr>\n",
       "      <th>0</th>\n",
       "      <td>1998</td>\n",
       "      <td>January</td>\n",
       "      <td>California</td>\n",
       "      <td>Restaurant</td>\n",
       "      <td>NaN</td>\n",
       "      <td>NaN</td>\n",
       "      <td>NaN</td>\n",
       "      <td>NaN</td>\n",
       "      <td>NaN</td>\n",
       "      <td>20</td>\n",
       "      <td>0.0</td>\n",
       "      <td>0.0</td>\n",
       "    </tr>\n",
       "    <tr>\n",
       "      <th>1</th>\n",
       "      <td>1998</td>\n",
       "      <td>January</td>\n",
       "      <td>California</td>\n",
       "      <td>NaN</td>\n",
       "      <td>Custard</td>\n",
       "      <td>NaN</td>\n",
       "      <td>NaN</td>\n",
       "      <td>NaN</td>\n",
       "      <td>NaN</td>\n",
       "      <td>112</td>\n",
       "      <td>0.0</td>\n",
       "      <td>0.0</td>\n",
       "    </tr>\n",
       "    <tr>\n",
       "      <th>2</th>\n",
       "      <td>1998</td>\n",
       "      <td>January</td>\n",
       "      <td>California</td>\n",
       "      <td>Restaurant</td>\n",
       "      <td>NaN</td>\n",
       "      <td>NaN</td>\n",
       "      <td>NaN</td>\n",
       "      <td>NaN</td>\n",
       "      <td>NaN</td>\n",
       "      <td>35</td>\n",
       "      <td>0.0</td>\n",
       "      <td>0.0</td>\n",
       "    </tr>\n",
       "    <tr>\n",
       "      <th>3</th>\n",
       "      <td>1998</td>\n",
       "      <td>January</td>\n",
       "      <td>California</td>\n",
       "      <td>Restaurant</td>\n",
       "      <td>Fish, Ahi</td>\n",
       "      <td>NaN</td>\n",
       "      <td>Scombroid toxin</td>\n",
       "      <td>NaN</td>\n",
       "      <td>Confirmed</td>\n",
       "      <td>4</td>\n",
       "      <td>0.0</td>\n",
       "      <td>0.0</td>\n",
       "    </tr>\n",
       "    <tr>\n",
       "      <th>4</th>\n",
       "      <td>1998</td>\n",
       "      <td>January</td>\n",
       "      <td>California</td>\n",
       "      <td>Private Home/Residence</td>\n",
       "      <td>Lasagna, Unspecified; Eggs, Other</td>\n",
       "      <td>NaN</td>\n",
       "      <td>Salmonella enterica</td>\n",
       "      <td>Enteritidis</td>\n",
       "      <td>Confirmed</td>\n",
       "      <td>26</td>\n",
       "      <td>3.0</td>\n",
       "      <td>0.0</td>\n",
       "    </tr>\n",
       "    <tr>\n",
       "      <th>...</th>\n",
       "      <td>...</td>\n",
       "      <td>...</td>\n",
       "      <td>...</td>\n",
       "      <td>...</td>\n",
       "      <td>...</td>\n",
       "      <td>...</td>\n",
       "      <td>...</td>\n",
       "      <td>...</td>\n",
       "      <td>...</td>\n",
       "      <td>...</td>\n",
       "      <td>...</td>\n",
       "      <td>...</td>\n",
       "    </tr>\n",
       "    <tr>\n",
       "      <th>19114</th>\n",
       "      <td>2015</td>\n",
       "      <td>December</td>\n",
       "      <td>Wisconsin</td>\n",
       "      <td>Restaurant</td>\n",
       "      <td>NaN</td>\n",
       "      <td>NaN</td>\n",
       "      <td>Norovirus genogroup II</td>\n",
       "      <td>GII_14</td>\n",
       "      <td>Confirmed</td>\n",
       "      <td>4</td>\n",
       "      <td>0.0</td>\n",
       "      <td>0.0</td>\n",
       "    </tr>\n",
       "    <tr>\n",
       "      <th>19115</th>\n",
       "      <td>2015</td>\n",
       "      <td>December</td>\n",
       "      <td>Wisconsin</td>\n",
       "      <td>Private Home/Residence</td>\n",
       "      <td>Salsa</td>\n",
       "      <td>NaN</td>\n",
       "      <td>Norovirus genogroup II</td>\n",
       "      <td>GII_2</td>\n",
       "      <td>Confirmed</td>\n",
       "      <td>16</td>\n",
       "      <td>0.0</td>\n",
       "      <td>0.0</td>\n",
       "    </tr>\n",
       "    <tr>\n",
       "      <th>19116</th>\n",
       "      <td>2015</td>\n",
       "      <td>December</td>\n",
       "      <td>Wisconsin</td>\n",
       "      <td>Nursing Home/Assisted Living Facility</td>\n",
       "      <td>NaN</td>\n",
       "      <td>NaN</td>\n",
       "      <td>Norovirus genogroup II</td>\n",
       "      <td>GII_17 Kawasaki (2014)</td>\n",
       "      <td>Confirmed</td>\n",
       "      <td>43</td>\n",
       "      <td>3.0</td>\n",
       "      <td>0.0</td>\n",
       "    </tr>\n",
       "    <tr>\n",
       "      <th>19117</th>\n",
       "      <td>2015</td>\n",
       "      <td>December</td>\n",
       "      <td>Wisconsin</td>\n",
       "      <td>Fast Food Restaurant</td>\n",
       "      <td>NaN</td>\n",
       "      <td>NaN</td>\n",
       "      <td>Norovirus genogroup II</td>\n",
       "      <td>GII_2</td>\n",
       "      <td>Confirmed</td>\n",
       "      <td>5</td>\n",
       "      <td>0.0</td>\n",
       "      <td>0.0</td>\n",
       "    </tr>\n",
       "    <tr>\n",
       "      <th>19118</th>\n",
       "      <td>2015</td>\n",
       "      <td>December</td>\n",
       "      <td>Wyoming</td>\n",
       "      <td>NaN</td>\n",
       "      <td>NaN</td>\n",
       "      <td>NaN</td>\n",
       "      <td>NaN</td>\n",
       "      <td>NaN</td>\n",
       "      <td>NaN</td>\n",
       "      <td>3</td>\n",
       "      <td>0.0</td>\n",
       "      <td>0.0</td>\n",
       "    </tr>\n",
       "  </tbody>\n",
       "</table>\n",
       "<p>19119 rows × 12 columns</p>\n",
       "</div>"
      ],
      "text/plain": [
       "       Year     Month       State                               Location  \\\n",
       "0      1998   January  California                             Restaurant   \n",
       "1      1998   January  California                                    NaN   \n",
       "2      1998   January  California                             Restaurant   \n",
       "3      1998   January  California                             Restaurant   \n",
       "4      1998   January  California                 Private Home/Residence   \n",
       "...     ...       ...         ...                                    ...   \n",
       "19114  2015  December   Wisconsin                             Restaurant   \n",
       "19115  2015  December   Wisconsin                 Private Home/Residence   \n",
       "19116  2015  December   Wisconsin  Nursing Home/Assisted Living Facility   \n",
       "19117  2015  December   Wisconsin                   Fast Food Restaurant   \n",
       "19118  2015  December     Wyoming                                    NaN   \n",
       "\n",
       "                                    Food Ingredient                 Species  \\\n",
       "0                                    NaN        NaN                     NaN   \n",
       "1                                Custard        NaN                     NaN   \n",
       "2                                    NaN        NaN                     NaN   \n",
       "3                              Fish, Ahi        NaN         Scombroid toxin   \n",
       "4      Lasagna, Unspecified; Eggs, Other        NaN     Salmonella enterica   \n",
       "...                                  ...        ...                     ...   \n",
       "19114                                NaN        NaN  Norovirus genogroup II   \n",
       "19115                              Salsa        NaN  Norovirus genogroup II   \n",
       "19116                                NaN        NaN  Norovirus genogroup II   \n",
       "19117                                NaN        NaN  Norovirus genogroup II   \n",
       "19118                                NaN        NaN                     NaN   \n",
       "\n",
       "            Serotype/Genotype     Status  Illnesses  Hospitalizations  \\\n",
       "0                         NaN        NaN         20               0.0   \n",
       "1                         NaN        NaN        112               0.0   \n",
       "2                         NaN        NaN         35               0.0   \n",
       "3                         NaN  Confirmed          4               0.0   \n",
       "4                 Enteritidis  Confirmed         26               3.0   \n",
       "...                       ...        ...        ...               ...   \n",
       "19114                  GII_14  Confirmed          4               0.0   \n",
       "19115                   GII_2  Confirmed         16               0.0   \n",
       "19116  GII_17 Kawasaki (2014)  Confirmed         43               3.0   \n",
       "19117                   GII_2  Confirmed          5               0.0   \n",
       "19118                     NaN        NaN          3               0.0   \n",
       "\n",
       "       Fatalities  \n",
       "0             0.0  \n",
       "1             0.0  \n",
       "2             0.0  \n",
       "3             0.0  \n",
       "4             0.0  \n",
       "...           ...  \n",
       "19114         0.0  \n",
       "19115         0.0  \n",
       "19116         0.0  \n",
       "19117         0.0  \n",
       "19118         0.0  \n",
       "\n",
       "[19119 rows x 12 columns]"
      ]
     },
     "execution_count": 8,
     "metadata": {},
     "output_type": "execute_result"
    }
   ],
   "source": [
    "heart"
   ]
  },
  {
   "cell_type": "code",
   "execution_count": 9,
   "id": "9a7cb9e4",
   "metadata": {},
   "outputs": [],
   "source": [
    "heart = heart.drop_duplicates()"
   ]
  },
  {
   "cell_type": "code",
   "execution_count": 10,
   "id": "ff2f184a",
   "metadata": {},
   "outputs": [
    {
     "name": "stdout",
     "output_type": "stream",
     "text": [
      "<class 'pandas.core.frame.DataFrame'>\n",
      "Int64Index: 18839 entries, 0 to 19118\n",
      "Data columns (total 12 columns):\n",
      " #   Column             Non-Null Count  Dtype  \n",
      "---  ------             --------------  -----  \n",
      " 0   Year               18839 non-null  int64  \n",
      " 1   Month              18839 non-null  object \n",
      " 2   State              18839 non-null  object \n",
      " 3   Location           16687 non-null  object \n",
      " 4   Food               10135 non-null  object \n",
      " 5   Ingredient         1874 non-null   object \n",
      " 6   Species            12448 non-null  object \n",
      " 7   Serotype/Genotype  3903 non-null   object \n",
      " 8   Status             12448 non-null  object \n",
      " 9   Illnesses          18839 non-null  int64  \n",
      " 10  Hospitalizations   15279 non-null  float64\n",
      " 11  Fatalities         15301 non-null  float64\n",
      "dtypes: float64(2), int64(2), object(8)\n",
      "memory usage: 1.9+ MB\n"
     ]
    }
   ],
   "source": [
    "heart.info()"
   ]
  },
  {
   "cell_type": "code",
   "execution_count": 11,
   "id": "ff20dc30",
   "metadata": {},
   "outputs": [
    {
     "data": {
      "text/plain": [
       "Year                     0\n",
       "Month                    0\n",
       "State                    0\n",
       "Location              2152\n",
       "Food                  8704\n",
       "Ingredient           16965\n",
       "Species               6391\n",
       "Serotype/Genotype    14936\n",
       "Status                6391\n",
       "Illnesses                0\n",
       "Hospitalizations      3560\n",
       "Fatalities            3538\n",
       "dtype: int64"
      ]
     },
     "execution_count": 11,
     "metadata": {},
     "output_type": "execute_result"
    }
   ],
   "source": [
    "heart.isna().sum()"
   ]
  },
  {
   "cell_type": "code",
   "execution_count": 12,
   "id": "96575a09",
   "metadata": {},
   "outputs": [],
   "source": [
    "heart = heart[~heart['Fatalities'].isna()]"
   ]
  },
  {
   "cell_type": "code",
   "execution_count": 13,
   "id": "d1638648",
   "metadata": {},
   "outputs": [
    {
     "name": "stdout",
     "output_type": "stream",
     "text": [
      "<class 'pandas.core.frame.DataFrame'>\n",
      "Int64Index: 15301 entries, 0 to 19118\n",
      "Data columns (total 12 columns):\n",
      " #   Column             Non-Null Count  Dtype  \n",
      "---  ------             --------------  -----  \n",
      " 0   Year               15301 non-null  int64  \n",
      " 1   Month              15301 non-null  object \n",
      " 2   State              15301 non-null  object \n",
      " 3   Location           13601 non-null  object \n",
      " 4   Food               7833 non-null   object \n",
      " 5   Ingredient         1683 non-null   object \n",
      " 6   Species            10647 non-null  object \n",
      " 7   Serotype/Genotype  3502 non-null   object \n",
      " 8   Status             10647 non-null  object \n",
      " 9   Illnesses          15301 non-null  int64  \n",
      " 10  Hospitalizations   14930 non-null  float64\n",
      " 11  Fatalities         15301 non-null  float64\n",
      "dtypes: float64(2), int64(2), object(8)\n",
      "memory usage: 1.5+ MB\n"
     ]
    }
   ],
   "source": [
    "heart.info()"
   ]
  },
  {
   "cell_type": "code",
   "execution_count": 14,
   "id": "20692d7a",
   "metadata": {},
   "outputs": [
    {
     "data": {
      "text/plain": [
       "Year                     0\n",
       "Month                    0\n",
       "State                    0\n",
       "Location              1700\n",
       "Food                  7468\n",
       "Ingredient           13618\n",
       "Species               4654\n",
       "Serotype/Genotype    11799\n",
       "Status                4654\n",
       "Illnesses                0\n",
       "Hospitalizations       371\n",
       "Fatalities               0\n",
       "dtype: int64"
      ]
     },
     "execution_count": 14,
     "metadata": {},
     "output_type": "execute_result"
    }
   ],
   "source": [
    "heart.isna().sum()"
   ]
  },
  {
   "cell_type": "code",
   "execution_count": 15,
   "id": "1cdb2623",
   "metadata": {},
   "outputs": [
    {
     "data": {
      "text/plain": [
       "array([ 0.,  1.,  2., 21.,  3.,  7.,  4.,  8.,  6.,  5.,  9., 33.])"
      ]
     },
     "execution_count": 15,
     "metadata": {},
     "output_type": "execute_result"
    }
   ],
   "source": [
    "heart['Fatalities'].unique()"
   ]
  },
  {
   "cell_type": "code",
   "execution_count": 17,
   "id": "d7fda8d2",
   "metadata": {},
   "outputs": [
    {
     "data": {
      "text/plain": [
       "array([1998, 1999, 2000, 2001, 2002, 2003, 2004, 2005, 2006, 2007, 2008,\n",
       "       2009, 2010, 2011, 2012, 2013, 2014, 2015], dtype=int64)"
      ]
     },
     "execution_count": 17,
     "metadata": {},
     "output_type": "execute_result"
    }
   ],
   "source": [
    "heart['Year'].unique()"
   ]
  },
  {
   "cell_type": "code",
   "execution_count": 18,
   "id": "f1a1c45a",
   "metadata": {},
   "outputs": [
    {
     "data": {
      "text/plain": [
       "<AxesSubplot:>"
      ]
     },
     "execution_count": 18,
     "metadata": {},
     "output_type": "execute_result"
    },
    {
     "data": {
      "image/png": "[encoded data removed]",
      "text/plain": [
       "<Figure size 432x288 with 1 Axes>"
      ]
     },
     "metadata": {
      "needs_background": "light"
     },
     "output_type": "display_data"
    }
   ],
   "source": [
    "heart.boxplot(column='Fatalities')"
   ]
  },
  {
   "cell_type": "code",
   "execution_count": 19,
   "id": "ed9dc5b1",
   "metadata": {},
   "outputs": [
    {
     "data": {
      "text/plain": [
       "count    15301.000000\n",
       "mean         0.021959\n",
       "std          0.389622\n",
       "min          0.000000\n",
       "25%          0.000000\n",
       "50%          0.000000\n",
       "75%          0.000000\n",
       "max         33.000000\n",
       "Name: Fatalities, dtype: float64"
      ]
     },
     "execution_count": 19,
     "metadata": {},
     "output_type": "execute_result"
    }
   ],
   "source": [
    "heart['Fatalities'].describe()"
   ]
  },
  {
   "cell_type": "code",
   "execution_count": 20,
   "id": "25d6957f",
   "metadata": {},
   "outputs": [],
   "source": [
    "q1= heart['Fatalities'].quantile(0.25)\n",
    "q3= heart['Fatalities'].quantile(0.75)\n",
    "upper_limit= q3 + (1.5*(q3-q1))\n",
    "lower_limit= q1 - (1.5*(q3-q1))\n"
   ]
  },
  {
   "cell_type": "code",
   "execution_count": 23,
   "id": "e0d272f5",
   "metadata": {},
   "outputs": [
    {
     "data": {
      "text/plain": [
       "count    0.0\n",
       "mean     NaN\n",
       "std      NaN\n",
       "min      NaN\n",
       "25%      NaN\n",
       "50%      NaN\n",
       "75%      NaN\n",
       "max      NaN\n",
       "Name: Fatalities, dtype: float64"
      ]
     },
     "execution_count": 23,
     "metadata": {},
     "output_type": "execute_result"
    }
   ],
   "source": [
    "\n",
    "heart['Fatalities'].describe()"
   ]
  },
  {
   "cell_type": "code",
   "execution_count": 22,
   "id": "66971cc7",
   "metadata": {},
   "outputs": [
    {
     "data": {
      "text/plain": [
       "<AxesSubplot:>"
      ]
     },
     "execution_count": 22,
     "metadata": {},
     "output_type": "execute_result"
    },
    {
     "data": {
      "image/png": "[encoded data removed]",
      "text/plain": [
       "<Figure size 432x288 with 1 Axes>"
      ]
     },
     "metadata": {
      "needs_background": "light"
     },
     "output_type": "display_data"
    }
   ],
   "source": [
    "heart.boxplot(column='Fatalities')"
   ]
  },
  {
   "cell_type": "code",
   "execution_count": null,
   "id": "33587532",
   "metadata": {},
   "outputs": [],
   "source": []
  }
 ],
 "metadata": {
  "kernelspec": {
   "display_name": "Python 3 (ipykernel)",
   "language": "python",
   "name": "python3"
  },
  "language_info": {
   "codemirror_mode": {
    "name": "ipython",
    "version": 3
   },
   "file_extension": ".py",
   "mimetype": "text/x-python",
   "name": "python",
   "nbconvert_exporter": "python",
   "pygments_lexer": "ipython3",
   "version": "3.9.13"
  }
 },
 "nbformat": 4,
 "nbformat_minor": 5
}
