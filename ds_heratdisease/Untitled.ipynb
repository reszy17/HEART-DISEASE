{
 "cells": [
  {
   "cell_type": "code",
   "execution_count": 1,
   "id": "e8aa37cd",
   "metadata": {},
   "outputs": [],
   "source": [
    "import pandas as pd"
   ]
  },
  {
   "cell_type": "code",
   "execution_count": 2,
   "id": "82b96c69",
   "metadata": {},
   "outputs": [],
   "source": [
    "heart= pd.read_csv(\"heart.csv\")"
   ]
  },
  {
   "cell_type": "code",
   "execution_count": 3,
   "id": "a19daca7",
   "metadata": {},
   "outputs": [
    {
     "data": {
      "text/html": [
       "<div>\n",
       "<style scoped>\n",
       "    .dataframe tbody tr th:only-of-type {\n",
       "        vertical-align: middle;\n",
       "    }\n",
       "\n",
       "    .dataframe tbody tr th {\n",
       "        vertical-align: top;\n",
       "    }\n",
       "\n",
       "    .dataframe thead th {\n",
       "        text-align: right;\n",
       "    }\n",
       "</style>\n",
       "<table border=\"1\" class=\"dataframe\">\n",
       "  <thead>\n",
       "    <tr style=\"text-align: right;\">\n",
       "      <th></th>\n",
       "      <th>Year</th>\n",
       "      <th>Month</th>\n",
       "      <th>State</th>\n",
       "      <th>Location</th>\n",
       "      <th>Food</th>\n",
       "      <th>Ingredient</th>\n",
       "      <th>Species</th>\n",
       "      <th>Serotype/Genotype</th>\n",
       "      <th>Status</th>\n",
       "      <th>Illnesses</th>\n",
       "      <th>Hospitalizations</th>\n",
       "      <th>Fatalities</th>\n",
       "    </tr>\n",
       "  </thead>\n",
       "  <tbody>\n",
       "    <tr>\n",
       "      <th>0</th>\n",
       "      <td>1998</td>\n",
       "      <td>January</td>\n",
       "      <td>California</td>\n",
       "      <td>Restaurant</td>\n",
       "      <td>NaN</td>\n",
       "      <td>NaN</td>\n",
       "      <td>NaN</td>\n",
       "      <td>NaN</td>\n",
       "      <td>NaN</td>\n",
       "      <td>20</td>\n",
       "      <td>0.0</td>\n",
       "      <td>0.0</td>\n",
       "    </tr>\n",
       "    <tr>\n",
       "      <th>1</th>\n",
       "      <td>1998</td>\n",
       "      <td>January</td>\n",
       "      <td>California</td>\n",
       "      <td>NaN</td>\n",
       "      <td>Custard</td>\n",
       "      <td>NaN</td>\n",
       "      <td>NaN</td>\n",
       "      <td>NaN</td>\n",
       "      <td>NaN</td>\n",
       "      <td>112</td>\n",
       "      <td>0.0</td>\n",
       "      <td>0.0</td>\n",
       "    </tr>\n",
       "    <tr>\n",
       "      <th>2</th>\n",
       "      <td>1998</td>\n",
       "      <td>January</td>\n",
       "      <td>California</td>\n",
       "      <td>Restaurant</td>\n",
       "      <td>NaN</td>\n",
       "      <td>NaN</td>\n",
       "      <td>NaN</td>\n",
       "      <td>NaN</td>\n",
       "      <td>NaN</td>\n",
       "      <td>35</td>\n",
       "      <td>0.0</td>\n",
       "      <td>0.0</td>\n",
       "    </tr>\n",
       "    <tr>\n",
       "      <th>3</th>\n",
       "      <td>1998</td>\n",
       "      <td>January</td>\n",
       "      <td>California</td>\n",
       "      <td>Restaurant</td>\n",
       "      <td>Fish, Ahi</td>\n",
       "      <td>NaN</td>\n",
       "      <td>Scombroid toxin</td>\n",
       "      <td>NaN</td>\n",
       "      <td>Confirmed</td>\n",
       "      <td>4</td>\n",
       "      <td>0.0</td>\n",
       "      <td>0.0</td>\n",
       "    </tr>\n",
       "    <tr>\n",
       "      <th>4</th>\n",
       "      <td>1998</td>\n",
       "      <td>January</td>\n",
       "      <td>California</td>\n",
       "      <td>Private Home/Residence</td>\n",
       "      <td>Lasagna, Unspecified; Eggs, Other</td>\n",
       "      <td>NaN</td>\n",
       "      <td>Salmonella enterica</td>\n",
       "      <td>Enteritidis</td>\n",
       "      <td>Confirmed</td>\n",
       "      <td>26</td>\n",
       "      <td>3.0</td>\n",
       "      <td>0.0</td>\n",
       "    </tr>\n",
       "    <tr>\n",
       "      <th>...</th>\n",
       "      <td>...</td>\n",
       "      <td>...</td>\n",
       "      <td>...</td>\n",
       "      <td>...</td>\n",
       "      <td>...</td>\n",
       "      <td>...</td>\n",
       "      <td>...</td>\n",
       "      <td>...</td>\n",
       "      <td>...</td>\n",
       "      <td>...</td>\n",
       "      <td>...</td>\n",
       "      <td>...</td>\n",
       "    </tr>\n",
       "    <tr>\n",
       "      <th>19114</th>\n",
       "      <td>2015</td>\n",
       "      <td>December</td>\n",
       "      <td>Wisconsin</td>\n",
       "      <td>Restaurant</td>\n",
       "      <td>NaN</td>\n",
       "      <td>NaN</td>\n",
       "      <td>Norovirus genogroup II</td>\n",
       "      <td>GII_14</td>\n",
       "      <td>Confirmed</td>\n",
       "      <td>4</td>\n",
       "      <td>0.0</td>\n",
       "      <td>0.0</td>\n",
       "    </tr>\n",
       "    <tr>\n",
       "      <th>19115</th>\n",
       "      <td>2015</td>\n",
       "      <td>December</td>\n",
       "      <td>Wisconsin</td>\n",
       "      <td>Private Home/Residence</td>\n",
       "      <td>Salsa</td>\n",
       "      <td>NaN</td>\n",
       "      <td>Norovirus genogroup II</td>\n",
       "      <td>GII_2</td>\n",
       "      <td>Confirmed</td>\n",
       "      <td>16</td>\n",
       "      <td>0.0</td>\n",
       "      <td>0.0</td>\n",
       "    </tr>\n",
       "    <tr>\n",
       "      <th>19116</th>\n",
       "      <td>2015</td>\n",
       "      <td>December</td>\n",
       "      <td>Wisconsin</td>\n",
       "      <td>Nursing Home/Assisted Living Facility</td>\n",
       "      <td>NaN</td>\n",
       "      <td>NaN</td>\n",
       "      <td>Norovirus genogroup II</td>\n",
       "      <td>GII_17 Kawasaki (2014)</td>\n",
       "      <td>Confirmed</td>\n",
       "      <td>43</td>\n",
       "      <td>3.0</td>\n",
       "      <td>0.0</td>\n",
       "    </tr>\n",
       "    <tr>\n",
       "      <th>19117</th>\n",
       "      <td>2015</td>\n",
       "      <td>December</td>\n",
       "      <td>Wisconsin</td>\n",
       "      <td>Fast Food Restaurant</td>\n",
       "      <td>NaN</td>\n",
       "      <td>NaN</td>\n",
       "      <td>Norovirus genogroup II</td>\n",
       "      <td>GII_2</td>\n",
       "      <td>Confirmed</td>\n",
       "      <td>5</td>\n",
       "      <td>0.0</td>\n",
       "      <td>0.0</td>\n",
       "    </tr>\n",
       "    <tr>\n",
       "      <th>19118</th>\n",
       "      <td>2015</td>\n",
       "      <td>December</td>\n",
       "      <td>Wyoming</td>\n",
       "      <td>NaN</td>\n",
       "      <td>NaN</td>\n",
       "      <td>NaN</td>\n",
       "      <td>NaN</td>\n",
       "      <td>NaN</td>\n",
       "      <td>NaN</td>\n",
       "      <td>3</td>\n",
       "      <td>0.0</td>\n",
       "      <td>0.0</td>\n",
       "    </tr>\n",
       "  </tbody>\n",
       "</table>\n",
       "<p>19119 rows × 12 columns</p>\n",
       "</div>"
      ],
      "text/plain": [
       "       Year     Month       State                               Location  \\\n",
       "0      1998   January  California                             Restaurant   \n",
       "1      1998   January  California                                    NaN   \n",
       "2      1998   January  California                             Restaurant   \n",
       "3      1998   January  California                             Restaurant   \n",
       "4      1998   January  California                 Private Home/Residence   \n",
       "...     ...       ...         ...                                    ...   \n",
       "19114  2015  December   Wisconsin                             Restaurant   \n",
       "19115  2015  December   Wisconsin                 Private Home/Residence   \n",
       "19116  2015  December   Wisconsin  Nursing Home/Assisted Living Facility   \n",
       "19117  2015  December   Wisconsin                   Fast Food Restaurant   \n",
       "19118  2015  December     Wyoming                                    NaN   \n",
       "\n",
       "                                    Food Ingredient                 Species  \\\n",
       "0                                    NaN        NaN                     NaN   \n",
       "1                                Custard        NaN                     NaN   \n",
       "2                                    NaN        NaN                     NaN   \n",
       "3                              Fish, Ahi        NaN         Scombroid toxin   \n",
       "4      Lasagna, Unspecified; Eggs, Other        NaN     Salmonella enterica   \n",
       "...                                  ...        ...                     ...   \n",
       "19114                                NaN        NaN  Norovirus genogroup II   \n",
       "19115                              Salsa        NaN  Norovirus genogroup II   \n",
       "19116                                NaN        NaN  Norovirus genogroup II   \n",
       "19117                                NaN        NaN  Norovirus genogroup II   \n",
       "19118                                NaN        NaN                     NaN   \n",
       "\n",
       "            Serotype/Genotype     Status  Illnesses  Hospitalizations  \\\n",
       "0                         NaN        NaN         20               0.0   \n",
       "1                         NaN        NaN        112               0.0   \n",
       "2                         NaN        NaN         35               0.0   \n",
       "3                         NaN  Confirmed          4               0.0   \n",
       "4                 Enteritidis  Confirmed         26               3.0   \n",
       "...                       ...        ...        ...               ...   \n",
       "19114                  GII_14  Confirmed          4               0.0   \n",
       "19115                   GII_2  Confirmed         16               0.0   \n",
       "19116  GII_17 Kawasaki (2014)  Confirmed         43               3.0   \n",
       "19117                   GII_2  Confirmed          5               0.0   \n",
       "19118                     NaN        NaN          3               0.0   \n",
       "\n",
       "       Fatalities  \n",
       "0             0.0  \n",
       "1             0.0  \n",
       "2             0.0  \n",
       "3             0.0  \n",
       "4             0.0  \n",
       "...           ...  \n",
       "19114         0.0  \n",
       "19115         0.0  \n",
       "19116         0.0  \n",
       "19117         0.0  \n",
       "19118         0.0  \n",
       "\n",
       "[19119 rows x 12 columns]"
      ]
     },
     "execution_count": 3,
     "metadata": {},
     "output_type": "execute_result"
    }
   ],
   "source": [
    "heart"
   ]
  },
  {
   "cell_type": "code",
   "execution_count": 4,
   "id": "32fec1c2",
   "metadata": {},
   "outputs": [
    {
     "name": "stdout",
     "output_type": "stream",
     "text": [
      "<class 'pandas.core.frame.DataFrame'>\n",
      "RangeIndex: 19119 entries, 0 to 19118\n",
      "Data columns (total 12 columns):\n",
      " #   Column             Non-Null Count  Dtype  \n",
      "---  ------             --------------  -----  \n",
      " 0   Year               19119 non-null  int64  \n",
      " 1   Month              19119 non-null  object \n",
      " 2   State              19119 non-null  object \n",
      " 3   Location           16953 non-null  object \n",
      " 4   Food               10156 non-null  object \n",
      " 5   Ingredient         1876 non-null   object \n",
      " 6   Species            12500 non-null  object \n",
      " 7   Serotype/Genotype  3907 non-null   object \n",
      " 8   Status             12500 non-null  object \n",
      " 9   Illnesses          19119 non-null  int64  \n",
      " 10  Hospitalizations   15494 non-null  float64\n",
      " 11  Fatalities         15518 non-null  float64\n",
      "dtypes: float64(2), int64(2), object(8)\n",
      "memory usage: 1.8+ MB\n"
     ]
    }
   ],
   "source": [
    "heart.info()"
   ]
  },
  {
   "cell_type": "code",
   "execution_count": 5,
   "id": "4837a8fa",
   "metadata": {},
   "outputs": [],
   "source": [
    "heart = heart.drop_duplicates()"
   ]
  },
  {
   "cell_type": "code",
   "execution_count": 6,
   "id": "30ff1a91",
   "metadata": {},
   "outputs": [
    {
     "name": "stdout",
     "output_type": "stream",
     "text": [
      "<class 'pandas.core.frame.DataFrame'>\n",
      "Int64Index: 18839 entries, 0 to 19118\n",
      "Data columns (total 12 columns):\n",
      " #   Column             Non-Null Count  Dtype  \n",
      "---  ------             --------------  -----  \n",
      " 0   Year               18839 non-null  int64  \n",
      " 1   Month              18839 non-null  object \n",
      " 2   State              18839 non-null  object \n",
      " 3   Location           16687 non-null  object \n",
      " 4   Food               10135 non-null  object \n",
      " 5   Ingredient         1874 non-null   object \n",
      " 6   Species            12448 non-null  object \n",
      " 7   Serotype/Genotype  3903 non-null   object \n",
      " 8   Status             12448 non-null  object \n",
      " 9   Illnesses          18839 non-null  int64  \n",
      " 10  Hospitalizations   15279 non-null  float64\n",
      " 11  Fatalities         15301 non-null  float64\n",
      "dtypes: float64(2), int64(2), object(8)\n",
      "memory usage: 1.9+ MB\n"
     ]
    }
   ],
   "source": [
    "heart.info()"
   ]
  },
  {
   "cell_type": "code",
   "execution_count": 7,
   "id": "3f4d7afe",
   "metadata": {},
   "outputs": [
    {
     "data": {
      "text/plain": [
       "Year                     0\n",
       "Month                    0\n",
       "State                    0\n",
       "Location              2152\n",
       "Food                  8704\n",
       "Ingredient           16965\n",
       "Species               6391\n",
       "Serotype/Genotype    14936\n",
       "Status                6391\n",
       "Illnesses                0\n",
       "Hospitalizations      3560\n",
       "Fatalities            3538\n",
       "dtype: int64"
      ]
     },
     "execution_count": 7,
     "metadata": {},
     "output_type": "execute_result"
    }
   ],
   "source": [
    "heart.isna().sum()"
   ]
  },
  {
   "cell_type": "code",
   "execution_count": 15,
   "id": "54884670",
   "metadata": {},
   "outputs": [
    {
     "data": {
      "text/plain": [
       "array([1998, 1999, 2000, 2001, 2002, 2003, 2004, 2005, 2006, 2007, 2008,\n",
       "       2009, 2010, 2011, 2012, 2013, 2014, 2015], dtype=int64)"
      ]
     },
     "execution_count": 15,
     "metadata": {},
     "output_type": "execute_result"
    }
   ],
   "source": [
    "heart['Year'].unique()"
   ]
  },
  {
   "cell_type": "code",
   "execution_count": 16,
   "id": "59a489c5",
   "metadata": {},
   "outputs": [
    {
     "data": {
      "text/plain": [
       "array([  20,  112,   35,    4,   26,   25,    8,   21,    3,   28,   10,\n",
       "          2,    5,   18,   47,   11,   79,  115,    6,  133,   19,   16,\n",
       "         23,   17,  218,   13,   34,   38,   39,   50,   43,   15,   33,\n",
       "        101,    9,   12,   45,   29,   22,   94,    7,   48,   14,   24,\n",
       "         44,  103,   30,   75,   49,   78,  125,   56,   65,   72,   40,\n",
       "         27,   51,   46,   53,   32,   71,  209,  800,   67,  100,   31,\n",
       "         61,   36,  171,   42,  264,  141,  400,   93,  167,  916,  204,\n",
       "        300,  134,   55,   63,   58,   80,   62,  429,  150,  486,   86,\n",
       "        143,  200,  644,   81,   85,   66,   41,  128,   37,  120,   60,\n",
       "        225,  191,  318,  226,  270,  258,  528,  250,   88,   64,   57,\n",
       "        180,  135,   59,   92,  118,   83,   97,  104,  245,   54,  105,\n",
       "        121,  140,   77,   90,  199,  184,  238,  106,  190,  151,   95,\n",
       "         70,  127,  177,   52,  398,   73,  256,   82,   74,  187,   76,\n",
       "        126,  460,  157,  156,  321,  280,   87,  110,  206,  297,  108,\n",
       "        130,  494,  333,  259,  155,  122,   99,  117,  136,  142,  114,\n",
       "         96,  107,  736,  132,   89,   68,  173,   69,  221,  235,  188,\n",
       "        148,  166,  811,  223,  144,  183,  552,  231,  329,  317,  886,\n",
       "        113,  168,  175,  202,  404,   91,   98,  170,  196,  129,  116,\n",
       "        700,  338,  201,  239,  119,  219,  162,  215,  159,  146,  178,\n",
       "        510,  950,  240,  111,  964,  269,   84,  432,  181,  641,  276,\n",
       "        149,  227,  176,  517,  935,  880,  102,  425,  707,  160,  380,\n",
       "        124,  224,  131,  214,  137,  212,  232,  220,  210,  592,  738,\n",
       "        872,  526,  304,  138,  260,  418,  495,  249,  161,  164,  741,\n",
       "        198, 1200,  228, 1644,  715,  192,  766,  284,  401,  145,  802,\n",
       "        208, 1500,  509,  123,  471,  268,  344,  714,  594,  303,  189,\n",
       "        350,  272,  205,  314,  139, 1939,  353,  207,  352,  152,  197,\n",
       "        312,  147,  158,  237,  244,  261,  365,  217,  282,  634,  294,\n",
       "        216,  275,  283,  907,  252], dtype=int64)"
      ]
     },
     "execution_count": 16,
     "metadata": {},
     "output_type": "execute_result"
    }
   ],
   "source": [
    "heart['Illnesses'].unique()"
   ]
  },
  {
   "cell_type": "code",
   "execution_count": 17,
   "id": "9300efce",
   "metadata": {},
   "outputs": [
    {
     "data": {
      "text/plain": [
       "<AxesSubplot:>"
      ]
     },
     "execution_count": 17,
     "metadata": {},
     "output_type": "execute_result"
    },
    {
     "data": {
      "image/png": "[encoded data removed]",
      "text/plain": [
       "<Figure size 432x288 with 1 Axes>"
      ]
     },
     "metadata": {
      "needs_background": "light"
     },
     "output_type": "display_data"
    }
   ],
   "source": [
    "heart.boxplot(column='Illnesses')"
   ]
  },
  {
   "cell_type": "code",
   "execution_count": 18,
   "id": "dad52766",
   "metadata": {},
   "outputs": [
    {
     "data": {
      "text/plain": [
       "count    18839.000000\n",
       "mean        19.753437\n",
       "std         49.775391\n",
       "min          2.000000\n",
       "25%          3.000000\n",
       "50%          8.000000\n",
       "75%         19.000000\n",
       "max       1939.000000\n",
       "Name: Illnesses, dtype: float64"
      ]
     },
     "execution_count": 18,
     "metadata": {},
     "output_type": "execute_result"
    }
   ],
   "source": [
    "heart['Illnesses'].describe()"
   ]
  },
  {
   "cell_type": "code",
   "execution_count": 19,
   "id": "dbea5d63",
   "metadata": {},
   "outputs": [],
   "source": [
    "q1= heart['Illnesses'].quantile(0.25)\n",
    "q3= heart['Illnesses'].quantile(0.75)\n",
    "upper_limit= q3 + (1.5*(q3-q1))\n",
    "lower_limit= q1 - (1.5*(q3-q1))\n"
   ]
  },
  {
   "cell_type": "code",
   "execution_count": 20,
   "id": "6f9cfd22",
   "metadata": {},
   "outputs": [
    {
     "data": {
      "text/plain": [
       "count    17002.000000\n",
       "mean        10.382543\n",
       "std          9.476318\n",
       "min          2.000000\n",
       "25%          3.000000\n",
       "50%          7.000000\n",
       "75%         15.000000\n",
       "max         42.000000\n",
       "Name: Illnesses, dtype: float64"
      ]
     },
     "execution_count": 20,
     "metadata": {},
     "output_type": "execute_result"
    }
   ],
   "source": [
    "heart = heart[heart['Illnesses'] > lower_limit]\n",
    "heart =heart[heart['Illnesses'] < upper_limit]\n",
    "heart['Illnesses'].describe()"
   ]
  },
  {
   "cell_type": "code",
   "execution_count": 21,
   "id": "345ff5f8",
   "metadata": {},
   "outputs": [
    {
     "data": {
      "text/plain": [
       "<AxesSubplot:>"
      ]
     },
     "execution_count": 21,
     "metadata": {},
     "output_type": "execute_result"
    },
    {
     "data": {
      "image/png": "[encoded data removed]",
      "text/plain": [
       "<Figure size 432x288 with 1 Axes>"
      ]
     },
     "metadata": {
      "needs_background": "light"
     },
     "output_type": "display_data"
    }
   ],
   "source": [
    "heart.boxplot(column='Illnesses')"
   ]
  },
  {
   "cell_type": "code",
   "execution_count": 22,
   "id": "647a1eb5",
   "metadata": {},
   "outputs": [],
   "source": [
    "q1= heart['Illnesses'].quantile(0.25)\n",
    "q3= heart['Illnesses'].quantile(0.75)\n",
    "upper_limit= q3 + (1.5*(q3-q1))\n",
    "lower_limit= q1 - (1.5*(q3-q1))\n"
   ]
  },
  {
   "cell_type": "code",
   "execution_count": 23,
   "id": "fdcc5c27",
   "metadata": {},
   "outputs": [
    {
     "data": {
      "text/plain": [
       "count    16245.000000\n",
       "mean         9.141090\n",
       "std          7.680619\n",
       "min          2.000000\n",
       "25%          3.000000\n",
       "50%          6.000000\n",
       "75%         13.000000\n",
       "max         32.000000\n",
       "Name: Illnesses, dtype: float64"
      ]
     },
     "execution_count": 23,
     "metadata": {},
     "output_type": "execute_result"
    }
   ],
   "source": [
    "heart = heart[heart['Illnesses'] > lower_limit]\n",
    "heart =heart[heart['Illnesses'] < upper_limit]\n",
    "heart['Illnesses'].describe()"
   ]
  },
  {
   "cell_type": "code",
   "execution_count": 24,
   "id": "abaae1e5",
   "metadata": {},
   "outputs": [
    {
     "data": {
      "text/plain": [
       "<AxesSubplot:>"
      ]
     },
     "execution_count": 24,
     "metadata": {},
     "output_type": "execute_result"
    },
    {
     "data": {
      "image/png": "[encoded data removed]",
      "text/plain": [
       "<Figure size 432x288 with 1 Axes>"
      ]
     },
     "metadata": {
      "needs_background": "light"
     },
     "output_type": "display_data"
    }
   ],
   "source": [
    "heart.boxplot(column='Illnesses')"
   ]
  },
  {
   "cell_type": "code",
   "execution_count": 25,
   "id": "10a13f7d",
   "metadata": {},
   "outputs": [],
   "source": [
    "q1= heart['Illnesses'].quantile(0.25)\n",
    "q3= heart['Illnesses'].quantile(0.75)\n",
    "upper_limit= q3 + (1.5*(q3-q1))\n",
    "lower_limit= q1 - (1.5*(q3-q1))"
   ]
  },
  {
   "cell_type": "code",
   "execution_count": 26,
   "id": "ef43f7c6",
   "metadata": {},
   "outputs": [
    {
     "data": {
      "text/plain": [
       "count    15671.000000\n",
       "mean         8.378853\n",
       "std          6.681389\n",
       "min          2.000000\n",
       "25%          3.000000\n",
       "50%          6.000000\n",
       "75%         12.000000\n",
       "max         27.000000\n",
       "Name: Illnesses, dtype: float64"
      ]
     },
     "execution_count": 26,
     "metadata": {},
     "output_type": "execute_result"
    }
   ],
   "source": [
    "heart = heart[heart['Illnesses'] > lower_limit]\n",
    "heart =heart[heart['Illnesses'] < upper_limit]\n",
    "heart['Illnesses'].describe()"
   ]
  },
  {
   "cell_type": "code",
   "execution_count": 27,
   "id": "823df319",
   "metadata": {},
   "outputs": [
    {
     "data": {
      "text/plain": [
       "<AxesSubplot:>"
      ]
     },
     "execution_count": 27,
     "metadata": {},
     "output_type": "execute_result"
    },
    {
     "data": {
      "image/png": "[encoded data removed]",
      "text/plain": [
       "<Figure size 432x288 with 1 Axes>"
      ]
     },
     "metadata": {
      "needs_background": "light"
     },
     "output_type": "display_data"
    }
   ],
   "source": [
    "heart.boxplot(column='Illnesses')"
   ]
  },
  {
   "cell_type": "code",
   "execution_count": 28,
   "id": "860e0117",
   "metadata": {},
   "outputs": [],
   "source": [
    "q1= heart['Illnesses'].quantile(0.25)\n",
    "q3= heart['Illnesses'].quantile(0.75)\n",
    "upper_limit= q3 + (1.5*(q3-q1))\n",
    "lower_limit= q1 - (1.5*(q3-q1))\n"
   ]
  },
  {
   "cell_type": "code",
   "execution_count": 29,
   "id": "47c224c9",
   "metadata": {},
   "outputs": [
    {
     "data": {
      "text/plain": [
       "count    15361.000000\n",
       "mean         8.012434\n",
       "std          6.224890\n",
       "min          2.000000\n",
       "25%          3.000000\n",
       "50%          6.000000\n",
       "75%         12.000000\n",
       "max         25.000000\n",
       "Name: Illnesses, dtype: float64"
      ]
     },
     "execution_count": 29,
     "metadata": {},
     "output_type": "execute_result"
    }
   ],
   "source": [
    "heart = heart[heart['Illnesses'] > lower_limit]\n",
    "heart =heart[heart['Illnesses'] < upper_limit]\n",
    "heart['Illnesses'].describe()"
   ]
  },
  {
   "cell_type": "code",
   "execution_count": 30,
   "id": "69858cee",
   "metadata": {},
   "outputs": [
    {
     "data": {
      "text/plain": [
       "<AxesSubplot:>"
      ]
     },
     "execution_count": 30,
     "metadata": {},
     "output_type": "execute_result"
    },
    {
     "data": {
      "image/png": "[encoded data removed]",
      "text/plain": [
       "<Figure size 432x288 with 1 Axes>"
      ]
     },
     "metadata": {
      "needs_background": "light"
     },
     "output_type": "display_data"
    }
   ],
   "source": [
    "heart.boxplot(column='Illnesses')"
   ]
  },
  {
   "cell_type": "code",
   "execution_count": 31,
   "id": "10f26665",
   "metadata": {},
   "outputs": [
    {
     "name": "stdout",
     "output_type": "stream",
     "text": [
      "<class 'pandas.core.frame.DataFrame'>\n",
      "Int64Index: 15361 entries, 0 to 19118\n",
      "Data columns (total 12 columns):\n",
      " #   Column             Non-Null Count  Dtype  \n",
      "---  ------             --------------  -----  \n",
      " 0   Year               15361 non-null  int64  \n",
      " 1   Month              15361 non-null  object \n",
      " 2   State              15361 non-null  object \n",
      " 3   Location           13770 non-null  object \n",
      " 4   Food               8117 non-null   object \n",
      " 5   Ingredient         1472 non-null   object \n",
      " 6   Species            9623 non-null   object \n",
      " 7   Serotype/Genotype  2916 non-null   object \n",
      " 8   Status             9623 non-null   object \n",
      " 9   Illnesses          15361 non-null  int64  \n",
      " 10  Hospitalizations   12468 non-null  float64\n",
      " 11  Fatalities         12445 non-null  float64\n",
      "dtypes: float64(2), int64(2), object(8)\n",
      "memory usage: 1.5+ MB\n"
     ]
    }
   ],
   "source": [
    "heart.info()"
   ]
  },
  {
   "cell_type": "code",
   "execution_count": 32,
   "id": "085b77f1",
   "metadata": {},
   "outputs": [],
   "source": [
    "heart.to_csv('heart_cleanned.csv')"
   ]
  },
  {
   "cell_type": "code",
   "execution_count": null,
   "id": "a8c2fc08",
   "metadata": {},
   "outputs": [],
   "source": []
  }
 ],
 "metadata": {
  "kernelspec": {
   "display_name": "Python 3 (ipykernel)",
   "language": "python",
   "name": "python3"
  },
  "language_info": {
   "codemirror_mode": {
    "name": "ipython",
    "version": 3
   },
   "file_extension": ".py",
   "mimetype": "text/x-python",
   "name": "python",
   "nbconvert_exporter": "python",
   "pygments_lexer": "ipython3",
   "version": "3.9.13"
  }
 },
 "nbformat": 4,
 "nbformat_minor": 5
}
